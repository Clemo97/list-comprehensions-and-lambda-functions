{
 "cells": [
  {
   "cell_type": "markdown",
   "metadata": {},
   "source": [
    "# List Comprehensions & Lambda Functions"
   ]
  },
  {
   "cell_type": "markdown",
   "metadata": {},
   "source": [
    "In this mission, we'll learn some tips and syntax shortcuts we can use on top of everything we've learned, including:\n",
    "<ul>\n",
    "    <li>Creating list comprehensions to replace loops with a single line of code.</li>\n",
    "    <li>Creating single use functions called lambda functions.</li>\n",
    "    </ul>\n",
    "    \n",
    "The data set we'll use in this mission is in a format called JavaScript Object Notation (JSON). As the name indicates, JSON originated from the JavaScript language, but has now become a language-independent format."
   ]
  },
  {
   "cell_type": "markdown",
   "metadata": {},
   "source": [
    "From a Python perspective, JSON can be thought as a collection of Python objects nested inside each other.\n",
    "\n",
    "![ ](images\\lcl.png)"
   ]
  },
  {
   "cell_type": "markdown",
   "metadata": {},
   "source": [
    "The JSON above is a list, where each element in the list is a dictionary. Each of the dictionaries have the same keys, and one of the values of each dictionary is itself a list."
   ]
  },
  {
   "cell_type": "markdown",
   "metadata": {},
   "source": [
    "The Python <b>json</b> module contains a number of functions to make working with JSON objects easier. We can use the json.loads() method to convert JSON data contained in a string to the equivalent set of Python objects:"
   ]
  },
  {
   "cell_type": "code",
   "execution_count": 1,
   "metadata": {},
   "outputs": [
    {
     "name": "stdout",
     "output_type": "stream",
     "text": [
      "<class 'list'>\n"
     ]
    }
   ],
   "source": [
    "json_string = \"\"\"\n",
    "[\n",
    "  {\n",
    "    \"name\": \"Sabine\",\n",
    "    \"age\": 36,\n",
    "    \"favorite_foods\": [\"Pumpkin\", \"Oatmeal\"]\n",
    "  },\n",
    "  {\n",
    "    \"name\": \"Zoe\",\n",
    "    \"age\": 40,\n",
    "    \"favorite_foods\": [\"Chicken\", \"Pizza\", \"Chocolate\"]\n",
    "  },\n",
    "  {\n",
    "    \"name\": \"Heidi\",\n",
    "    \"age\": 40,\n",
    "    \"favorite_foods\": [\"Caesar Salad\"]\n",
    "  }\n",
    "]\n",
    "\"\"\"\n",
    "\n",
    "import json\n",
    "json_obj = json.loads(json_string)\n",
    "print(type(json_obj))"
   ]
  },
  {
   "cell_type": "markdown",
   "metadata": {},
   "source": [
    "We can see that <b>json_string</b> has turned into a list. Let's take a look at the values in the list:"
   ]
  },
  {
   "cell_type": "code",
   "execution_count": 2,
   "metadata": {},
   "outputs": [
    {
     "name": "stdout",
     "output_type": "stream",
     "text": [
      "[{'name': 'Sabine', 'age': 36, 'favorite_foods': ['Pumpkin', 'Oatmeal']}, {'name': 'Zoe', 'age': 40, 'favorite_foods': ['Chicken', 'Pizza', 'Chocolate']}, {'name': 'Heidi', 'age': 40, 'favorite_foods': ['Caesar Salad']}]\n"
     ]
    }
   ],
   "source": [
    "print(json_obj)"
   ]
  },
  {
   "cell_type": "markdown",
   "metadata": {},
   "source": [
    "We can observe a few things:\n",
    "<ul>\n",
    "<li>The formatting from our original string is gone. This is because printing Python lists and dictionaries has a simple formatting structure.</li>\n",
    "<li>The order of the keys in the dictionary have changed. This is because (prior to version 3.6) Python dictionaries don't have fixed order.</li>\n",
    "    </ul>"
   ]
  },
  {
   "cell_type": "code",
   "execution_count": null,
   "metadata": {},
   "outputs": [],
   "source": []
  }
 ],
 "metadata": {
  "kernelspec": {
   "display_name": "Python 3",
   "language": "python",
   "name": "python3"
  },
  "language_info": {
   "codemirror_mode": {
    "name": "ipython",
    "version": 3
   },
   "file_extension": ".py",
   "mimetype": "text/x-python",
   "name": "python",
   "nbconvert_exporter": "python",
   "pygments_lexer": "ipython3",
   "version": "3.7.4"
  }
 },
 "nbformat": 4,
 "nbformat_minor": 2
}
